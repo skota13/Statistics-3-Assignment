{
 "cells": [
  {
   "cell_type": "markdown",
   "metadata": {},
   "source": [
    "# STATISTICS 3 ASSIGNMENT"
   ]
  },
  {
   "cell_type": "markdown",
   "metadata": {},
   "source": [
    "#Blood glucose levels for obese patients have a mean of 100 with a standard deviation of 15. A researcher thinks that a diet #high in raw cornstarch will have a positive effect on blood glucose levels. A sample of 36 patients who have tried the raw #cornstarch diet have a mean glucose level of 108. Test the hypothesis that the raw cornstarch had an effect or not."
   ]
  },
  {
   "cell_type": "code",
   "execution_count": 4,
   "metadata": {},
   "outputs": [
    {
     "name": "stdout",
     "output_type": "stream",
     "text": [
      "3.2\n"
     ]
    }
   ],
   "source": [
    "import numpy as np\n",
    "\n",
    "#Null Hypothesis: H0      = Mu =100\n",
    "\n",
    "#Alternate Hypothesis: H1 = Mu>100\n",
    "\n",
    "#Population Stats:\n",
    "Mu = 100\n",
    "SIGMA = 15\n",
    "\n",
    "#Sample Stats:\n",
    "X = 108\n",
    "n = 36\n",
    "\n",
    "#Sample Std sigma = SIGMA/Sqrt(sample size) = \n",
    "sigma=15/np.sqrt(n)\n",
    "\n",
    "#Lets calculate the Z score\n",
    "\n",
    "Z = (X-Mu)/sigma\n",
    "print(Z)\n",
    "#Z=3.2\n",
    "\n",
    "#Since the Alpha level is not specified, we will go with the assumption of Alpha = 5% = 0.05\n",
    "#Z value at 0.05 is 1.645\n",
    "\n",
    "#Z(from Test Hypothesis) > Z(from Alpha level)\n",
    "\n",
    "#HENCE WE REJECT THE NULL HYPOTHESIS and ACCEPT THAT CORNSTARCH HAS EFFECT ON BLOOD GLUCOSE LEVELS"
   ]
  },
  {
   "cell_type": "markdown",
   "metadata": {},
   "source": [
    "#In one state, 52% of the voters are Republicans, and 48% are Democrats. In a second state, 47% of the voters are Republicans, #and 53% are Democrats. Suppose a simple random sample of 100 voters are surveyed from each state.What is the probability that #the survey will show a greater percentage #of Republican voters in the second state than in the first state?"
   ]
  },
  {
   "cell_type": "code",
   "execution_count": 11,
   "metadata": {},
   "outputs": [
    {
     "name": "stdout",
     "output_type": "stream",
     "text": [
      "Sigma=0.0706186944088\n",
      "Z = -0.70802781641\n"
     ]
    }
   ],
   "source": [
    "#State 1 \n",
    "#P(R1) = 52% = .52\n",
    "#P(D1) = 48% = .48\n",
    "\n",
    "#State 2\n",
    "#P(R2) = 47% = .47\n",
    "#P(D2) = 53% = .53\n",
    "\n",
    "#Sample size = n = 100\n",
    "n=100\n",
    "\n",
    "# Since we are looking for probability that the survey will show a greater percentage of Republican voters \n",
    "# in the second state than in the first state?\n",
    "\n",
    "#We consider the Difference of two means of Republicans data = P(R1)-P(R2) = 0.52-0.47 = 0.05\n",
    "\n",
    "#Standard Deviation of the two Republican populations -  Sigma = Sqrt(((P(R1)*(1-P(R1)))/n) + ((P(R2)*(1-P(R2)))/n))\n",
    "Sigma = np.sqrt(((0.52*0.48)/n)+((0.47*0.53)/n))\n",
    "print(\"Sigma=\"+str(Sigma))\n",
    "\n",
    "#We have the means and Standard Deviation. We can calculate the Z score to find out the P Value\n",
    "\n",
    "#Z = (Mu1-Mu2)/Sigma\n",
    "Z = (0.47-0.52)/Sigma\n",
    "print(\"Z = \"+str(Z))\n",
    "\n",
    "#P(X=Z) = 0.2420\n",
    "\n",
    "#probability that survey will show a greater percentage of Republican voters in the second state than in the first state =0.24"
   ]
  },
  {
   "cell_type": "code",
   "execution_count": 12,
   "metadata": {},
   "outputs": [
    {
     "name": "stdout",
     "output_type": "stream",
     "text": [
      "Z =0.35406698564593303\n"
     ]
    }
   ],
   "source": [
    "#You take the SAT and score 1100. The mean score for the SAT is 1026 and the standard deviation is 209. How well did you score #on the test compared to the average test taker?\n",
    "\n",
    "Mu = 1026\n",
    "Sigma = 209\n",
    "X = 1100\n",
    "\n",
    "Z = (X-Mu)/Sigma\n",
    "print(\"Z = \"+str(Z))\n",
    "\n",
    "#This means its 0.3540 above the Mean.\n",
    "#P Value @ Z= 0.035 = 0.1368\n",
    "#Since its a positive value, its above the mean value Hence we add 0.5 50 P value which makes it 0.6368\n",
    "#This means 63.7% of the people have  fared below the SAT score of 1100"
   ]
  },
  {
   "cell_type": "code",
   "execution_count": null,
   "metadata": {},
   "outputs": [],
   "source": []
  }
 ],
 "metadata": {
  "kernelspec": {
   "display_name": "Python 3",
   "language": "python",
   "name": "python3"
  },
  "language_info": {
   "codemirror_mode": {
    "name": "ipython",
    "version": 3
   },
   "file_extension": ".py",
   "mimetype": "text/x-python",
   "name": "python",
   "nbconvert_exporter": "python",
   "pygments_lexer": "ipython3",
   "version": "3.6.5"
  }
 },
 "nbformat": 4,
 "nbformat_minor": 2
}
